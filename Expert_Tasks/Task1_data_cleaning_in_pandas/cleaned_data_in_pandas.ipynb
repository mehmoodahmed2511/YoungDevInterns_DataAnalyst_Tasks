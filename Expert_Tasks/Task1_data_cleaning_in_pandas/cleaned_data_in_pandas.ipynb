{
 "cells": [
  {
   "cell_type": "code",
   "execution_count": null,
   "id": "5ecbdc8b-2582-40d3-9d0d-cdae3e00c60d",
   "metadata": {},
   "outputs": [],
   "source": [
    "import pandas as pd\n",
    "tc = pd.read_csv('ToyotaCorolla_2.csv')"
   ]
  },
  {
   "cell_type": "code",
   "execution_count": null,
   "id": "7c0a7b23-ce72-4e8f-bfd6-ebf69a095d93",
   "metadata": {},
   "outputs": [],
   "source": [
    "tc.info()"
   ]
  },
  {
   "cell_type": "code",
   "execution_count": 18,
   "id": "bf9c43ce-f50c-4a9d-b8e5-08cfa2ae774e",
   "metadata": {},
   "outputs": [
    {
     "data": {
      "text/plain": [
       "(1311, 25)"
      ]
     },
     "execution_count": 18,
     "metadata": {},
     "output_type": "execute_result"
    }
   ],
   "source": [
    "tc.shape"
   ]
  },
  {
   "cell_type": "code",
   "execution_count": null,
   "id": "8396bbe7-55e8-47db-8a6c-906a0f2aa5ed",
   "metadata": {},
   "outputs": [],
   "source": [
    "tc.dropna(inplace = True)"
   ]
  },
  {
   "cell_type": "code",
   "execution_count": null,
   "id": "bed81309-1eb4-43ff-a2ab-7d7ae2eb82d4",
   "metadata": {},
   "outputs": [],
   "source": [
    "tc.drop_duplicates(inplace = True)"
   ]
  },
  {
   "cell_type": "code",
   "execution_count": null,
   "id": "d6f2f034-1624-493a-93b2-e03acd15e4dc",
   "metadata": {},
   "outputs": [],
   "source": [
    "tc.drop(columns = ['Id', 'Cylinders', 'Boardcomputer', 'CD_Player', 'Central_Lock', 'Powered_Windows', 'Radio', 'Backseat_Divider', 'Metallic_Rim', 'Radio_cassette', 'Parking_Assistant', 'Power_Steering', 'Mistlamps', 'Tow_Bar'], inplace = True)"
   ]
  },
  {
   "cell_type": "code",
   "execution_count": null,
   "id": "46286c59-4ffe-4a7c-82ba-a90736c63d71",
   "metadata": {},
   "outputs": [],
   "source": [
    "tc.shape"
   ]
  },
  {
   "cell_type": "code",
   "execution_count": 19,
   "id": "e237ba3c-1925-4750-bb49-2908e772563f",
   "metadata": {},
   "outputs": [
    {
     "data": {
      "text/plain": [
       "<Axes: xlabel='Price'>"
      ]
     },
     "execution_count": 19,
     "metadata": {},
     "output_type": "execute_result"
    },
    {
     "data": {
      "image/png": "[encoded data removed]",
      "text/plain": [
       "<Figure size 640x480 with 1 Axes>"
      ]
     },
     "metadata": {},
     "output_type": "display_data"
    }
   ],
   "source": [
    "import seaborn as sb\n",
    "import matplotlib.pyplot as plt\n",
    "\n",
    "sb.boxplot(x = tc['Price'])\n"
   ]
  },
  {
   "cell_type": "code",
   "execution_count": 15,
   "id": "4b69910f-9e24-4bf9-ac98-b9054e869d4d",
   "metadata": {},
   "outputs": [],
   "source": [
    "Q1 = tc['Price'].quantile(0.25)\n",
    "Q3 = tc['Price'].quantile(0.75)\n",
    "IQR = Q3 - Q1\n",
    "lb = Q1 - 1.5 * IQR\n",
    "ub = Q3 + 1.5 * IQR"
   ]
  },
  {
   "cell_type": "code",
   "execution_count": 16,
   "id": "99b12bb3-93f6-4740-9ea3-7d48190f27cb",
   "metadata": {},
   "outputs": [],
   "source": [
    "tc = tc[(tc['Price'] >= lb) & (tc['Price'] <= ub)]"
   ]
  },
  {
   "cell_type": "code",
   "execution_count": 17,
   "id": "b63d8941-e47d-4079-ae99-abca584b6e61",
   "metadata": {},
   "outputs": [
    {
     "data": {
      "text/plain": [
       "(1311, 25)"
      ]
     },
     "execution_count": 17,
     "metadata": {},
     "output_type": "execute_result"
    }
   ],
   "source": [
    "tc.shape"
   ]
  },
  {
   "cell_type": "code",
   "execution_count": 20,
   "id": "88ea1c41-aba9-40a4-9fbf-afc5d720d101",
   "metadata": {},
   "outputs": [],
   "source": [
    "tc.to_csv('ToyotaCorolla_2.csv', index=False)"
   ]
  }
 ],
 "metadata": {
  "kernelspec": {
   "display_name": "Python 3 (ipykernel)",
   "language": "python",
   "name": "python3"
  },
  "language_info": {
   "codemirror_mode": {
    "name": "ipython",
    "version": 3
   },
   "file_extension": ".py",
   "mimetype": "text/x-python",
   "name": "python",
   "nbconvert_exporter": "python",
   "pygments_lexer": "ipython3",
   "version": "3.13.5"
  }
 },
 "nbformat": 4,
 "nbformat_minor": 5
}
